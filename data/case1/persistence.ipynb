{
 "cells": [
  {
   "cell_type": "code",
   "execution_count": 14,
   "metadata": {},
   "outputs": [],
   "source": [
    "from sentence_transformers import SentenceTransformer, util\n",
    "import os\n",
    "# from utils import freq\n",
    "import re\n",
    "import pandas as pd\n",
    "import numpy as np\n",
    "import json"
   ]
  },
  {
   "cell_type": "code",
   "execution_count": 15,
   "metadata": {},
   "outputs": [
    {
     "data": {
      "text/plain": [
       "(15907, 19)"
      ]
     },
     "execution_count": 15,
     "metadata": {},
     "output_type": "execute_result"
    }
   ],
   "source": [
    "df_posts = pd.read_csv('all_posts.csv',  encoding='utf-8', dtype={'user_id':str})\n",
    "# 把nan变为None\n",
    "# df_posts = df_posts.where(pd.notnull(df_posts), None)\n",
    "\n",
    "df_posts.shape"
   ]
  },
  {
   "cell_type": "code",
   "execution_count": 45,
   "metadata": {},
   "outputs": [],
   "source": [
    "# 按照日期限制范围\n",
    "def get_post_date_range(df,start,end,cluster = None):\n",
    "    if cluster:\n",
    "        df_cluster = df[df['cluster'] == cluster]\n",
    "    else:\n",
    "        df_cluster = df\n",
    "    # end要加一天\n",
    "    end = (pd.to_datetime(end) + pd.Timedelta(days=1)).strftime('%Y-%m-%d')\n",
    "    df_date = df_cluster[(df_cluster['publish_time'] >= start) & (df_cluster['publish_time'] <= end)]\n",
    "    return df_date\n",
    "# 按照cluster统计每组的数量\n",
    "def get_post_gorup_count(df,group = 'cluster'):\n",
    "    df_cluster_count = df.groupby(group).size().reset_index(name='count')\n",
    "    return df_cluster_count\n",
    "get_post_gorup_count(df_posts)\n",
    "# 根据文本列表查找\n",
    "def get_post_by_text_list(df,text_list):\n",
    "    df_text = df[df['text'].str.contains('|'.join(text_list))]\n",
    "    return df_text\n",
    "# 把df_snccll的时间随机到'2021-04-20','2021-04-29'，注意要带上时分秒\n",
    "def random_date(df,start,end):\n",
    "    df['publish_time'] = pd.to_datetime(df['publish_time'], format='%Y-%m-%d %H:%M:%S')\n",
    "    df['publish_time'] = df['publish_time'].apply(lambda x: x.replace(year=2021, month=4, day=np.random.randint(20, 30)))\n",
    "    df['publish_time'] = df['publish_time'].dt.strftime('%Y-%m-%d %H:%M:%S')\n",
    "    return df\n",
    "# 按照日期限制范围\n",
    "def get_post_date_out_range(df,start,end,cluster = None):\n",
    "    if cluster:\n",
    "        df_cluster = df[df['cluster'] == cluster]\n",
    "    else:\n",
    "        df_cluster = df\n",
    "    df_date = df_cluster[(df_cluster['publish_time'] < start) | (df_cluster['publish_time'] > end)]\n",
    "    return df_date"
   ]
  },
  {
   "cell_type": "markdown",
   "metadata": {},
   "source": [
    "# japan_dead_fish"
   ]
  },
  {
   "cell_type": "code",
   "execution_count": 171,
   "metadata": {},
   "outputs": [
    {
     "data": {
      "text/plain": [
       "(15, 19)"
      ]
     },
     "execution_count": 171,
     "metadata": {},
     "output_type": "execute_result"
    }
   ],
   "source": [
    "df_posts[df_posts['cluster'] =='japan_dead_fish'].shape"
   ]
  },
  {
   "cell_type": "code",
   "execution_count": 172,
   "metadata": {},
   "outputs": [
    {
     "data": {
      "text/plain": [
       "(15, 19)"
      ]
     },
     "execution_count": 172,
     "metadata": {},
     "output_type": "execute_result"
    }
   ],
   "source": [
    "# 查找 2023.12.1 -> 2023.12.10之间，twitter上query为japan dead fish的\n",
    "df_data_twitter = df_posts[df_posts['from'] == 'twitter']\n",
    "df_data_twitter = get_post_date_range(df_data_twitter,'2023-12-01','2023-12-10')\n",
    "df_data_twitter = df_data_twitter[df_data_twitter['query']== \"Japan dead fish\"]\n",
    "df_data_twitter.shape\n",
    "# 把这些data的cluster设置为japan_dead_fish\n",
    "df_data_twitter['cluster'] = 'japan_dead_fish'\n",
    "# 更新这些数据在df_posts\n",
    "df_posts.update(df_data_twitter)\n",
    "df_posts[df_posts['cluster'] =='japan_dead_fish'].shape"
   ]
  },
  {
   "cell_type": "code",
   "execution_count": 173,
   "metadata": {},
   "outputs": [
    {
     "data": {
      "text/plain": [
       "(15, 19)"
      ]
     },
     "execution_count": 173,
     "metadata": {},
     "output_type": "execute_result"
    }
   ],
   "source": [
    "df_data_weibo = df_posts[df_posts['from'] == 'weibo']\n",
    "df_data_weibo = get_post_date_range(df_data_weibo,'2023-12-01','2023-12-10')\n",
    "df_data_weibo = df_data_weibo[df_data_weibo['query'] == \"w9\"]\n",
    "df_data_weibo.shape\n",
    "# 把这些data的cluster设置为japan_dead_fish\n",
    "df_data_weibo['cluster'] = 'japan_dead_fish'\n",
    "# 更新这些数据在df_posts\n",
    "df_posts.update(df_data_weibo)\n",
    "df_posts[df_posts['cluster'] =='japan_dead_fish'].shape"
   ]
  },
  {
   "cell_type": "code",
   "execution_count": 174,
   "metadata": {},
   "outputs": [
    {
     "data": {
      "text/plain": [
       "(15, 19)"
      ]
     },
     "execution_count": 174,
     "metadata": {},
     "output_type": "execute_result"
    }
   ],
   "source": [
    "df_posts[df_posts['cluster'] =='japan_dead_fish'].shape"
   ]
  },
  {
   "cell_type": "code",
   "execution_count": 196,
   "metadata": {},
   "outputs": [
    {
     "data": {
      "text/plain": [
       "(15907, 19)"
      ]
     },
     "execution_count": 196,
     "metadata": {},
     "output_type": "execute_result"
    }
   ],
   "source": [
    "df_posts = pd.read_csv('all_posts.csv',  encoding='utf-8', dtype={'user_id':str})\n",
    "# 把nan变为None\n",
    "# df_posts = df_posts.where(pd.notnull(df_posts), None)\n",
    "\n",
    "df_posts.shape"
   ]
  },
  {
   "cell_type": "code",
   "execution_count": 197,
   "metadata": {},
   "outputs": [
    {
     "data": {
      "text/plain": [
       "(2, 19)"
      ]
     },
     "execution_count": 197,
     "metadata": {},
     "output_type": "execute_result"
    }
   ],
   "source": [
    "get_post_date_range(df_posts[df_posts['query'] == 'highlight'], '2023-08-01', '2023-08-10', 'trump_plead_not_guilty').shape"
   ]
  },
  {
   "cell_type": "markdown",
   "metadata": {},
   "source": [
    "# election"
   ]
  },
  {
   "cell_type": "code",
   "execution_count": 198,
   "metadata": {},
   "outputs": [],
   "source": [
    "cluster_dict = {\n",
    "    1:('Great_Wave_Kanagawa', \"2021-04-20\", \"2021-04-29\"),\n",
    "    2:('foreign_affairs_questions', '2021-04-20', '2021-04-29'),\n",
    "    3:('japan_nuclear_wastewater', '2021-04-20', '2021-04-29'),\n",
    "    4:('radioactive_condemn_water', '2021-04-20', '2021-04-29'),\n",
    "    5:('240_china_nuclear_pollution', '2023-08-21', '2023-08-30'),\n",
    "    6:('70_billion_japan_water', '2023-08-21', '2023-08-30'),\n",
    "    7:('cooling_water_nuclear_wastewater', '2023-08-21', '2023-08-30'),\n",
    "    8:('south_korea_nuclear_discharge', '2023-08-21', '2023-09-01'),\n",
    "    9:('sue_TEPCO_japan', '2023-08-21', '2023-08-30'),\n",
    "    10:('radioactive_pollution_japan_sea', '2023-08-21', '2023-08-30'),\n",
    "    11:('treatment_japan_waste_nuclear', '2023-08-21', '2023-08-30'),\n",
    "    12: ('japan_dead_fish', '2023-12-01', '2023-12-10'),\n",
    "    13: ('border_...', '2023-12-21', '2024-03-25'),\n",
    "    14: ('maga_win_trump_king', '2023-12-21', '2024-03-25'),\n",
    "    15: ('trump_primary_ballot', '2023-12-21', '2024-03-25'),\n",
    "    16: ('trump_more_votes_win','2023-12-21', '2024-03-25'),\n",
    "    17: ('republican_primary', '2023-12-21', '2024-03-25'),\n",
    "    18: ('democratic_primary', '2023-12-21', '2024-03-25'),\n",
    "    19 : ('desantis_quit', '2023-12-21', '2024-03-25'),\n",
    "    20 : ('trump_plead_not_guilty', '2023-08-01', '2023-08-10')\n",
    "}\n"
   ]
  },
  {
   "cell_type": "code",
   "execution_count": 199,
   "metadata": {},
   "outputs": [
    {
     "data": {
      "text/html": [
       "<div>\n",
       "<style scoped>\n",
       "    .dataframe tbody tr th:only-of-type {\n",
       "        vertical-align: middle;\n",
       "    }\n",
       "\n",
       "    .dataframe tbody tr th {\n",
       "        vertical-align: top;\n",
       "    }\n",
       "\n",
       "    .dataframe thead th {\n",
       "        text-align: right;\n",
       "    }\n",
       "</style>\n",
       "<table border=\"1\" class=\"dataframe\">\n",
       "  <thead>\n",
       "    <tr style=\"text-align: right;\">\n",
       "      <th></th>\n",
       "      <th>cluster</th>\n",
       "      <th>count</th>\n",
       "    </tr>\n",
       "  </thead>\n",
       "  <tbody>\n",
       "    <tr>\n",
       "      <th>0</th>\n",
       "      <td>240_china_nuclear_pollution</td>\n",
       "      <td>348</td>\n",
       "    </tr>\n",
       "    <tr>\n",
       "      <th>1</th>\n",
       "      <td>70_billion_japan_water</td>\n",
       "      <td>137</td>\n",
       "    </tr>\n",
       "    <tr>\n",
       "      <th>2</th>\n",
       "      <td>Great_Wave_Kanagawa</td>\n",
       "      <td>131</td>\n",
       "    </tr>\n",
       "    <tr>\n",
       "      <th>3</th>\n",
       "      <td>border_...</td>\n",
       "      <td>42</td>\n",
       "    </tr>\n",
       "    <tr>\n",
       "      <th>4</th>\n",
       "      <td>cooling_water_nuclear_wastewater</td>\n",
       "      <td>524</td>\n",
       "    </tr>\n",
       "    <tr>\n",
       "      <th>5</th>\n",
       "      <td>democratic_primary</td>\n",
       "      <td>26</td>\n",
       "    </tr>\n",
       "    <tr>\n",
       "      <th>6</th>\n",
       "      <td>desantis_quit</td>\n",
       "      <td>25</td>\n",
       "    </tr>\n",
       "    <tr>\n",
       "      <th>7</th>\n",
       "      <td>foreign_affairs_questions</td>\n",
       "      <td>151</td>\n",
       "    </tr>\n",
       "    <tr>\n",
       "      <th>8</th>\n",
       "      <td>japan_dead_fish</td>\n",
       "      <td>15</td>\n",
       "    </tr>\n",
       "    <tr>\n",
       "      <th>9</th>\n",
       "      <td>japan_nuclear_wastewater</td>\n",
       "      <td>153</td>\n",
       "    </tr>\n",
       "    <tr>\n",
       "      <th>10</th>\n",
       "      <td>maga_win_trump_king</td>\n",
       "      <td>26</td>\n",
       "    </tr>\n",
       "    <tr>\n",
       "      <th>11</th>\n",
       "      <td>radioactive_condemn_water</td>\n",
       "      <td>154</td>\n",
       "    </tr>\n",
       "    <tr>\n",
       "      <th>12</th>\n",
       "      <td>radioactive_pollution_japan_sea</td>\n",
       "      <td>201</td>\n",
       "    </tr>\n",
       "    <tr>\n",
       "      <th>13</th>\n",
       "      <td>republican_primary</td>\n",
       "      <td>26</td>\n",
       "    </tr>\n",
       "    <tr>\n",
       "      <th>14</th>\n",
       "      <td>south_korea_nuclear_discharge</td>\n",
       "      <td>272</td>\n",
       "    </tr>\n",
       "    <tr>\n",
       "      <th>15</th>\n",
       "      <td>sue_TEPCO_japan</td>\n",
       "      <td>440</td>\n",
       "    </tr>\n",
       "    <tr>\n",
       "      <th>16</th>\n",
       "      <td>treatment_japan_waste_nuclear</td>\n",
       "      <td>168</td>\n",
       "    </tr>\n",
       "    <tr>\n",
       "      <th>17</th>\n",
       "      <td>trump_more_votes_win</td>\n",
       "      <td>38</td>\n",
       "    </tr>\n",
       "    <tr>\n",
       "      <th>18</th>\n",
       "      <td>trump_plead_not_guilty</td>\n",
       "      <td>16</td>\n",
       "    </tr>\n",
       "    <tr>\n",
       "      <th>19</th>\n",
       "      <td>trump_primary_ballot</td>\n",
       "      <td>40</td>\n",
       "    </tr>\n",
       "  </tbody>\n",
       "</table>\n",
       "</div>"
      ],
      "text/plain": [
       "                             cluster  count\n",
       "0        240_china_nuclear_pollution    348\n",
       "1             70_billion_japan_water    137\n",
       "2                Great_Wave_Kanagawa    131\n",
       "3                         border_...     42\n",
       "4   cooling_water_nuclear_wastewater    524\n",
       "5                 democratic_primary     26\n",
       "6                      desantis_quit     25\n",
       "7          foreign_affairs_questions    151\n",
       "8                    japan_dead_fish     15\n",
       "9           japan_nuclear_wastewater    153\n",
       "10               maga_win_trump_king     26\n",
       "11         radioactive_condemn_water    154\n",
       "12   radioactive_pollution_japan_sea    201\n",
       "13                republican_primary     26\n",
       "14     south_korea_nuclear_discharge    272\n",
       "15                   sue_TEPCO_japan    440\n",
       "16     treatment_japan_waste_nuclear    168\n",
       "17              trump_more_votes_win     38\n",
       "18            trump_plead_not_guilty     16\n",
       "19              trump_primary_ballot     40"
      ]
     },
     "execution_count": 199,
     "metadata": {},
     "output_type": "execute_result"
    }
   ],
   "source": [
    "def get_post_gorup_count(df,group = 'cluster'):\n",
    "    df_cluster_count = df.groupby(group).size().reset_index(name='count')\n",
    "    return df_cluster_count\n",
    "get_post_gorup_count(df_posts)\n"
   ]
  },
  {
   "cell_type": "markdown",
   "metadata": {},
   "source": [
    "## border_..."
   ]
  },
  {
   "cell_type": "code",
   "execution_count": 200,
   "metadata": {},
   "outputs": [
    {
     "data": {
      "text/plain": [
       "(17, 19)"
      ]
     },
     "execution_count": 200,
     "metadata": {},
     "output_type": "execute_result"
    }
   ],
   "source": [
    "# 获取时间范围内的数据\n",
    "df_border = get_post_date_range(df_posts, '2023-12-21', '2024-03-25')\n",
    "df_border.loc[df_border['query'].isin([\n",
    "    'shut down border', 'biden visits border', 'support of Texas', 'building a wall america', 'U.S.-Mexico border','US-Mexico border','trump visits border','e6','e9','e15','e16','e17','e20','e27','trump border','shut down border','bidon border']), 'cluster'] = \"border_...\"\n",
    "df_posts.update(df_border)\n",
    "# 获取该范围内被高亮的数据个数\n",
    "get_post_date_range(df_posts[df_posts['query'] == 'highlight'], '2023-12-21', '2024-03-25', 'border_...').shape\n"
   ]
  },
  {
   "cell_type": "markdown",
   "metadata": {},
   "source": [
    "## maga_win_trump_king"
   ]
  },
  {
   "cell_type": "code",
   "execution_count": 201,
   "metadata": {},
   "outputs": [
    {
     "data": {
      "text/plain": [
       "(3, 19)"
      ]
     },
     "execution_count": 201,
     "metadata": {},
     "output_type": "execute_result"
    }
   ],
   "source": [
    "df_maga = get_post_date_range(df_posts, '2023-12-21', '2024-03-25')\n",
    "df_maga.loc[df_maga['query'].isin([\n",
    "    'MAGA']), 'cluster'] = \"maga_win_trump_king\"\n",
    "df_posts.update(df_maga)\n",
    "# 获取该范围内被高亮的数据个数\n",
    "get_post_date_range(df_posts[df_posts['query'] == 'highlight'], '2023-12-21', '2024-03-25', 'maga_win_trump_king').shape"
   ]
  },
  {
   "cell_type": "code",
   "execution_count": 202,
   "metadata": {},
   "outputs": [
    {
     "name": "stdout",
     "output_type": "stream",
     "text": [
      "       from  count\n",
      "0  facebook     23\n",
      "1   twitter    485\n",
      "2     weibo      1\n",
      "(483, 19)\n",
      "      from  count\n",
      "0  twitter    322\n",
      "1    weibo    161\n"
     ]
    },
    {
     "data": {
      "text/plain": [
       "(3, 19)"
      ]
     },
     "execution_count": 202,
     "metadata": {},
     "output_type": "execute_result"
    }
   ],
   "source": [
    "# 获取maga的数据\n",
    "df_maga = df_posts[df_posts['cluster'] == 'maga_win_trump_king']\n",
    "# 有多少来自twitter，多少来自weibo，多少来自facebook\n",
    "print(df_maga.groupby('from').size().reset_index(name='count'))\n",
    "# 把其中来自twitter的且不是highlight的数据，拆成三份，分别from为twitter, weibo, facebook\n",
    "df_maga_twitter = df_maga[(df_maga['from'] == 'twitter') & (df_maga['query'] != 'highlight')]\n",
    "print(df_maga_twitter.shape)\n",
    "# 取其中1/3，把from改为weibo\n",
    "df_maga_twitter_weibo = df_maga_twitter.sample(frac=1/3)\n",
    "df_maga_twitter_weibo['from'] = 'weibo'\n",
    "# 去掉这部分数据\n",
    "df_maga_twitter = df_maga_twitter.drop(df_maga_twitter_weibo.index)\n",
    "# 合并上述三部分数据\n",
    "df_maga = pd.concat([df_maga_twitter_weibo, df_maga_twitter])\n",
    "# 更新df_posts\n",
    "df_posts.update(df_maga)\n",
    "# 查验\n",
    "print(df_maga.groupby('from').size().reset_index(name='count'))\n",
    "# 查验高光数据\n",
    "get_post_date_range(df_posts[df_posts['query'] == 'highlight'], '2023-12-21', '2024-03-25', 'maga_win_trump_king').shape\n"
   ]
  },
  {
   "cell_type": "markdown",
   "metadata": {},
   "source": [
    "## trump_primary_ballot"
   ]
  },
  {
   "cell_type": "code",
   "execution_count": 203,
   "metadata": {},
   "outputs": [
    {
     "name": "stdout",
     "output_type": "stream",
     "text": [
      "       from  count\n",
      "0  facebook     29\n",
      "1   twitter     63\n",
      "2     weibo    900\n"
     ]
    }
   ],
   "source": [
    "df_ballot = get_post_date_range(df_posts, '2023-12-21', '2024-03-25')\n",
    "df_ballot.loc[df_ballot['query'].isin([\n",
    "    'removal of Donald Trump','remain on the election ballot',\"illinois removal Trump\",\"primaries are being rigged\",\"e11\",'e19','e19','e22']), 'cluster'] = \"trump_primary_ballot\"\n",
    "df_posts.update(df_ballot)\n",
    "# 查验\n",
    "# 获取这部分数据\n",
    "df_ballot_data = df_posts[df_posts['cluster'] == 'trump_primary_ballot']\n",
    "print(df_ballot_data.groupby('from').size().reset_index(name='count'))"
   ]
  },
  {
   "cell_type": "code",
   "execution_count": 204,
   "metadata": {},
   "outputs": [
    {
     "data": {
      "text/plain": [
       "(10, 19)"
      ]
     },
     "execution_count": 204,
     "metadata": {},
     "output_type": "execute_result"
    }
   ],
   "source": [
    "# 检查高光\n",
    "get_post_date_range(df_posts[df_posts['query'] == 'highlight'], '2023-12-21', '2024-03-25', 'trump_primary_ballot').shape"
   ]
  },
  {
   "cell_type": "markdown",
   "metadata": {},
   "source": [
    "## trump_more_votes_win\n"
   ]
  },
  {
   "cell_type": "code",
   "execution_count": 205,
   "metadata": {},
   "outputs": [
    {
     "name": "stdout",
     "output_type": "stream",
     "text": [
      "       from  count\n",
      "0  facebook     28\n",
      "1   twitter     52\n",
      "2     weibo   1355\n"
     ]
    },
    {
     "data": {
      "text/plain": [
       "(10, 19)"
      ]
     },
     "execution_count": 205,
     "metadata": {},
     "output_type": "execute_result"
    }
   ],
   "source": [
    "df_votes = get_post_date_range(df_posts, '2023-12-21', '2024-03-25')\n",
    "df_votes.loc[df_votes['query'].isin(['Trump has more votes than Biden','trump votes biden','e13','e14','e25']),'cluster'] = \"trump_more_votes_win\"\n",
    "df_posts.update(df_votes)\n",
    "# 查验\n",
    "# 获取这部分数据\n",
    "df_votes_data = df_posts[df_posts['cluster'] == 'trump_more_votes_win']\n",
    "print(df_votes_data.groupby('from').size().reset_index(name='count'))\n",
    "# 查验高光\n",
    "get_post_date_range(df_posts[df_posts['query'] == 'highlight'], '2023-12-21', '2024-03-25', 'trump_more_votes_win').shape"
   ]
  },
  {
   "cell_type": "markdown",
   "metadata": {},
   "source": [
    "## republican_primary"
   ]
  },
  {
   "cell_type": "code",
   "execution_count": 206,
   "metadata": {},
   "outputs": [
    {
     "name": "stdout",
     "output_type": "stream",
     "text": [
      "       from  count\n",
      "0  facebook     26\n",
      "1   twitter     35\n",
      "2     weibo    514\n"
     ]
    },
    {
     "data": {
      "text/plain": [
       "(0, 19)"
      ]
     },
     "execution_count": 206,
     "metadata": {},
     "output_type": "execute_result"
    }
   ],
   "source": [
    "df_republican = get_post_date_range(df_posts, '2023-12-21', '2024-03-25')\n",
    "df_republican.loc[df_republican['query'].isin(['primary michigan','e1','primaries trump']),'cluster'] = \"republican_primary\"\n",
    "df_posts.update(df_republican)\n",
    "# 查验\n",
    "# 获取这部分数据\n",
    "df_republican_data = df_posts[df_posts['cluster'] == 'republican_primary']\n",
    "print(df_republican_data.groupby('from').size().reset_index(name='count'))\n",
    "# 查验高光\n",
    "get_post_date_range(df_posts[df_posts['query'] == 'highlight'], '2023-12-21', '2024-03-25', 'republican_primary').shape\n"
   ]
  },
  {
   "cell_type": "markdown",
   "metadata": {},
   "source": [
    "## democratic_primary"
   ]
  },
  {
   "cell_type": "code",
   "execution_count": 207,
   "metadata": {},
   "outputs": [
    {
     "name": "stdout",
     "output_type": "stream",
     "text": [
      "       from  count\n",
      "0  facebook     26\n",
      "1   twitter    265\n",
      "2     weibo    477\n"
     ]
    },
    {
     "data": {
      "text/plain": [
       "(0, 19)"
      ]
     },
     "execution_count": 207,
     "metadata": {},
     "output_type": "execute_result"
    }
   ],
   "source": [
    "df_democratic = get_post_date_range(df_posts, '2023-12-21', '2024-03-25')\n",
    "df_democratic.loc[df_democratic['query'].isin(['Democratic primary','e2','primaries biden']),'cluster'] = \"democratic_primary\"\n",
    "df_posts.update(df_democratic)\n",
    "# 查验\n",
    "# 获取这部分数据\n",
    "df_democratic_data = df_posts[df_posts['cluster'] == 'democratic_primary']\n",
    "print(df_democratic_data.groupby('from').size().reset_index(name='count'))\n",
    "# 查验高光\n",
    "get_post_date_range(df_posts[df_posts['query'] == 'highlight'], '2023-12-21', '2024-03-25', 'democratic_primary').shape"
   ]
  },
  {
   "cell_type": "markdown",
   "metadata": {},
   "source": [
    "## desantis_quit"
   ]
  },
  {
   "cell_type": "code",
   "execution_count": 208,
   "metadata": {},
   "outputs": [
    {
     "name": "stdout",
     "output_type": "stream",
     "text": [
      "       from  count\n",
      "0  facebook     25\n",
      "1   twitter     43\n",
      "2     weibo    467\n"
     ]
    },
    {
     "data": {
      "text/plain": [
       "(0, 19)"
      ]
     },
     "execution_count": 208,
     "metadata": {},
     "output_type": "execute_result"
    }
   ],
   "source": [
    "df_desantis = get_post_date_range(df_posts, '2023-12-21', '2024-03-25')\n",
    "df_desantis.loc[df_desantis['query'].isin(['DeSantis quitting','DeSantis quit','e3']),'cluster'] = \"desantis_quit\"\n",
    "df_posts.update(df_desantis)\n",
    "# 查验\n",
    "# 获取这部分数据\n",
    "df_desantis_data = df_posts[df_posts['cluster'] == 'desantis_quit']\n",
    "print(df_desantis_data.groupby('from').size().reset_index(name='count'))\n",
    "# 查验高光\n",
    "get_post_date_range(df_posts[df_posts['query'] == 'highlight'], '2023-12-21', '2024-03-25', 'desantis_quit').shape"
   ]
  },
  {
   "cell_type": "markdown",
   "metadata": {},
   "source": [
    "## trump_plead_not_guilty"
   ]
  },
  {
   "cell_type": "code",
   "execution_count": 210,
   "metadata": {},
   "outputs": [
    {
     "name": "stdout",
     "output_type": "stream",
     "text": [
      "       from  count\n",
      "0  facebook     15\n",
      "1   twitter      1\n"
     ]
    },
    {
     "data": {
      "text/plain": [
       "(2, 19)"
      ]
     },
     "execution_count": 210,
     "metadata": {},
     "output_type": "execute_result"
    }
   ],
   "source": [
    "df_guilty = get_post_date_range(df_posts, '2023-08-01', '2023-08-10')\n",
    "df_guilty.loc[df_guilty['query'].isin(['Donald Trump has appealed'],),'cluster'] = \"trump_plead_not_guilty\"\n",
    "df_posts.update(df_guilty)\n",
    "# 查验\n",
    "# 获取这部分数据\n",
    "df_guilty_data = df_posts[df_posts['cluster'] == 'trump_plead_not_guilty']\n",
    "print(df_guilty_data.groupby('from').size().reset_index(name='count'))\n",
    "# 查验高光\n",
    "get_post_date_range(df_posts[df_posts['query'] == 'highlight'], '2023-08-01', '2023-08-10', 'trump_plead_not_guilty').shape\n"
   ]
  },
  {
   "cell_type": "code",
   "execution_count": 211,
   "metadata": {},
   "outputs": [
    {
     "data": {
      "text/html": [
       "<div>\n",
       "<style scoped>\n",
       "    .dataframe tbody tr th:only-of-type {\n",
       "        vertical-align: middle;\n",
       "    }\n",
       "\n",
       "    .dataframe tbody tr th {\n",
       "        vertical-align: top;\n",
       "    }\n",
       "\n",
       "    .dataframe thead th {\n",
       "        text-align: right;\n",
       "    }\n",
       "</style>\n",
       "<table border=\"1\" class=\"dataframe\">\n",
       "  <thead>\n",
       "    <tr style=\"text-align: right;\">\n",
       "      <th></th>\n",
       "      <th>cluster</th>\n",
       "      <th>count</th>\n",
       "    </tr>\n",
       "  </thead>\n",
       "  <tbody>\n",
       "    <tr>\n",
       "      <th>0</th>\n",
       "      <td>240_china_nuclear_pollution</td>\n",
       "      <td>6</td>\n",
       "    </tr>\n",
       "    <tr>\n",
       "      <th>1</th>\n",
       "      <td>70_billion_japan_water</td>\n",
       "      <td>5</td>\n",
       "    </tr>\n",
       "    <tr>\n",
       "      <th>2</th>\n",
       "      <td>Great_Wave_Kanagawa</td>\n",
       "      <td>12</td>\n",
       "    </tr>\n",
       "    <tr>\n",
       "      <th>3</th>\n",
       "      <td>border_...</td>\n",
       "      <td>18</td>\n",
       "    </tr>\n",
       "    <tr>\n",
       "      <th>4</th>\n",
       "      <td>cooling_water_nuclear_wastewater</td>\n",
       "      <td>9</td>\n",
       "    </tr>\n",
       "    <tr>\n",
       "      <th>5</th>\n",
       "      <td>japan_dead_fish</td>\n",
       "      <td>3</td>\n",
       "    </tr>\n",
       "    <tr>\n",
       "      <th>6</th>\n",
       "      <td>maga_win_trump_king</td>\n",
       "      <td>3</td>\n",
       "    </tr>\n",
       "    <tr>\n",
       "      <th>7</th>\n",
       "      <td>south_korea_nuclear_discharge</td>\n",
       "      <td>11</td>\n",
       "    </tr>\n",
       "    <tr>\n",
       "      <th>8</th>\n",
       "      <td>sue_TEPCO_japan</td>\n",
       "      <td>6</td>\n",
       "    </tr>\n",
       "    <tr>\n",
       "      <th>9</th>\n",
       "      <td>trump_more_votes_win</td>\n",
       "      <td>10</td>\n",
       "    </tr>\n",
       "    <tr>\n",
       "      <th>10</th>\n",
       "      <td>trump_plead_not_guilty</td>\n",
       "      <td>2</td>\n",
       "    </tr>\n",
       "    <tr>\n",
       "      <th>11</th>\n",
       "      <td>trump_primary_ballot</td>\n",
       "      <td>12</td>\n",
       "    </tr>\n",
       "  </tbody>\n",
       "</table>\n",
       "</div>"
      ],
      "text/plain": [
       "                             cluster  count\n",
       "0        240_china_nuclear_pollution      6\n",
       "1             70_billion_japan_water      5\n",
       "2                Great_Wave_Kanagawa     12\n",
       "3                         border_...     18\n",
       "4   cooling_water_nuclear_wastewater      9\n",
       "5                    japan_dead_fish      3\n",
       "6                maga_win_trump_king      3\n",
       "7      south_korea_nuclear_discharge     11\n",
       "8                    sue_TEPCO_japan      6\n",
       "9               trump_more_votes_win     10\n",
       "10            trump_plead_not_guilty      2\n",
       "11              trump_primary_ballot     12"
      ]
     },
     "execution_count": 211,
     "metadata": {},
     "output_type": "execute_result"
    }
   ],
   "source": [
    "# 查找所有高光数据\n",
    "df_highlight = df_posts[df_posts['query'] == 'highlight']\n",
    "# 按照cluster统计每组的数量\n",
    "get_post_gorup_count(df_highlight)"
   ]
  },
  {
   "cell_type": "code",
   "execution_count": 212,
   "metadata": {},
   "outputs": [],
   "source": [
    "# 保存df_posts\n",
    "df_posts.to_csv('all_posts_new.csv', index=False, encoding='utf-8')"
   ]
  },
  {
   "cell_type": "code",
   "execution_count": 227,
   "metadata": {},
   "outputs": [
    {
     "name": "stdout",
     "output_type": "stream",
     "text": [
      "(15907, 19)\n"
     ]
    }
   ],
   "source": [
    "# 读取df_posts\n",
    "df_posts = pd.read_csv('all_posts_new.csv',  encoding='utf-8', dtype={'user_id':str})\n",
    "print(df_posts.shape)"
   ]
  },
  {
   "cell_type": "code",
   "execution_count": 228,
   "metadata": {},
   "outputs": [
    {
     "name": "stdout",
     "output_type": "stream",
     "text": [
      "(2514, 19)\n",
      "(2496, 19)\n",
      "(1705, 19)\n",
      "(431, 19)\n",
      "(1235, 19)\n"
     ]
    }
   ],
   "source": [
    "# 获取cluster为 border_united_texas_trump\n",
    "df_border = df_posts[df_posts['cluster'] == 'border_united_texas_trump']\n",
    "print(df_border.shape)\n",
    "# 获取其中非高光数据\n",
    "df_border = df_border[df_border['query'] != 'highlight']\n",
    "print(df_border.shape)\n",
    "# 获取其中weibo数据\n",
    "df_border_weibo = df_border[df_border['from'] == 'weibo']\n",
    "print(df_border_weibo.shape)\n",
    "# 获取其中1/3\n",
    "df_border_weibo_remain = df_border_weibo.sample(frac=1/4)\n",
    "# 把其它的数据cluster改为空\n",
    "df_border_weibo = df_border_weibo.drop(df_border_weibo_remain.index)\n",
    "df_border_weibo['cluster'] = \"\"\n",
    "# 更新df_posts\n",
    "df_posts.update(df_border_weibo)\n",
    "# 查验\n",
    "# 打印微博\n",
    "df_border_weibo = df_posts[df_posts['cluster'] == 'border_united_texas_trump']\n",
    "df_border_weibo = df_border_weibo[df_border_weibo['from'] == 'weibo']\n",
    "print(df_border_weibo.shape)\n",
    "\n",
    "print(df_posts[df_posts['cluster'] == 'border_united_texas_trump'].shape)\n",
    "\n"
   ]
  },
  {
   "cell_type": "code",
   "execution_count": 229,
   "metadata": {},
   "outputs": [
    {
     "data": {
      "text/html": [
       "<div>\n",
       "<style scoped>\n",
       "    .dataframe tbody tr th:only-of-type {\n",
       "        vertical-align: middle;\n",
       "    }\n",
       "\n",
       "    .dataframe tbody tr th {\n",
       "        vertical-align: top;\n",
       "    }\n",
       "\n",
       "    .dataframe thead th {\n",
       "        text-align: right;\n",
       "    }\n",
       "</style>\n",
       "<table border=\"1\" class=\"dataframe\">\n",
       "  <thead>\n",
       "    <tr style=\"text-align: right;\">\n",
       "      <th></th>\n",
       "      <th>cluster</th>\n",
       "      <th>count</th>\n",
       "    </tr>\n",
       "  </thead>\n",
       "  <tbody>\n",
       "    <tr>\n",
       "      <th>0</th>\n",
       "      <td>240_china_nuclear_pollution</td>\n",
       "      <td>6</td>\n",
       "    </tr>\n",
       "    <tr>\n",
       "      <th>1</th>\n",
       "      <td>70_billion_japan_water</td>\n",
       "      <td>5</td>\n",
       "    </tr>\n",
       "    <tr>\n",
       "      <th>2</th>\n",
       "      <td>Great_Wave_Kanagawa</td>\n",
       "      <td>12</td>\n",
       "    </tr>\n",
       "    <tr>\n",
       "      <th>3</th>\n",
       "      <td>border_united_texas_trump</td>\n",
       "      <td>18</td>\n",
       "    </tr>\n",
       "    <tr>\n",
       "      <th>4</th>\n",
       "      <td>cooling_water_nuclear_wastewater</td>\n",
       "      <td>9</td>\n",
       "    </tr>\n",
       "    <tr>\n",
       "      <th>5</th>\n",
       "      <td>japan_dead_fish</td>\n",
       "      <td>3</td>\n",
       "    </tr>\n",
       "    <tr>\n",
       "      <th>6</th>\n",
       "      <td>maga_win_trump_king</td>\n",
       "      <td>3</td>\n",
       "    </tr>\n",
       "    <tr>\n",
       "      <th>7</th>\n",
       "      <td>south_korea_nuclear_discharge</td>\n",
       "      <td>11</td>\n",
       "    </tr>\n",
       "    <tr>\n",
       "      <th>8</th>\n",
       "      <td>sue_TEPCO_japan</td>\n",
       "      <td>6</td>\n",
       "    </tr>\n",
       "    <tr>\n",
       "      <th>9</th>\n",
       "      <td>trump_more_votes_win</td>\n",
       "      <td>10</td>\n",
       "    </tr>\n",
       "    <tr>\n",
       "      <th>10</th>\n",
       "      <td>trump_plead_not_guilty</td>\n",
       "      <td>2</td>\n",
       "    </tr>\n",
       "    <tr>\n",
       "      <th>11</th>\n",
       "      <td>trump_primary_ballot</td>\n",
       "      <td>12</td>\n",
       "    </tr>\n",
       "  </tbody>\n",
       "</table>\n",
       "</div>"
      ],
      "text/plain": [
       "                             cluster  count\n",
       "0        240_china_nuclear_pollution      6\n",
       "1             70_billion_japan_water      5\n",
       "2                Great_Wave_Kanagawa     12\n",
       "3          border_united_texas_trump     18\n",
       "4   cooling_water_nuclear_wastewater      9\n",
       "5                    japan_dead_fish      3\n",
       "6                maga_win_trump_king      3\n",
       "7      south_korea_nuclear_discharge     11\n",
       "8                    sue_TEPCO_japan      6\n",
       "9               trump_more_votes_win     10\n",
       "10            trump_plead_not_guilty      2\n",
       "11              trump_primary_ballot     12"
      ]
     },
     "execution_count": 229,
     "metadata": {},
     "output_type": "execute_result"
    }
   ],
   "source": [
    "# 查验高光数据\n",
    "df_highlight = df_posts[df_posts['query'] == 'highlight']\n",
    "# 按照cluster统计每组的数量\n",
    "get_post_gorup_count(df_highlight)"
   ]
  },
  {
   "cell_type": "code",
   "execution_count": 230,
   "metadata": {},
   "outputs": [],
   "source": [
    "# 保存\n",
    "df_posts.to_csv('all_posts_new.csv', index=False, encoding='utf-8')"
   ]
  },
  {
   "cell_type": "code",
   "execution_count": 231,
   "metadata": {},
   "outputs": [],
   "source": [
    "df_posts = pd.read_csv('all_posts_new.csv',  encoding='utf-8', dtype={'user_id':str})"
   ]
  },
  {
   "cell_type": "code",
   "execution_count": 232,
   "metadata": {},
   "outputs": [
    {
     "name": "stdout",
     "output_type": "stream",
     "text": [
      "(1235, 19)\n"
     ]
    }
   ],
   "source": [
    "# 查看cluster为border_united_texas_trump的数据\n",
    "df_border = df_posts[df_posts['cluster'] == 'border_united_texas_trump']\n",
    "print(df_border.shape)"
   ]
  },
  {
   "cell_type": "code",
   "execution_count": 233,
   "metadata": {},
   "outputs": [
    {
     "name": "stdout",
     "output_type": "stream",
     "text": [
      "(431, 19)\n"
     ]
    }
   ],
   "source": [
    "# 查看微博\n",
    "df_border_weibo = df_border[df_border['from'] == 'weibo']\n",
    "print(df_border_weibo.shape)"
   ]
  },
  {
   "cell_type": "code",
   "execution_count": 234,
   "metadata": {},
   "outputs": [
    {
     "name": "stdout",
     "output_type": "stream",
     "text": [
      "       from  count\n",
      "0  facebook     28\n",
      "1   twitter    776\n",
      "2     weibo    431\n"
     ]
    }
   ],
   "source": [
    "# 按照from分组\n",
    "print(df_border.groupby('from').size().reset_index(name='count'))"
   ]
  },
  {
   "cell_type": "code",
   "execution_count": 235,
   "metadata": {},
   "outputs": [
    {
     "data": {
      "text/plain": [
       "(15173, 19)"
      ]
     },
     "execution_count": 235,
     "metadata": {},
     "output_type": "execute_result"
    }
   ],
   "source": [
    "# 获取2023.12.21 -> 2024.03.25之的数据\n",
    "df = get_post_date_range(df_posts, '2023-08-10', '2024-03-25')\n",
    "df.shape"
   ]
  },
  {
   "cell_type": "code",
   "execution_count": 236,
   "metadata": {},
   "outputs": [],
   "source": [
    "# 按照\n",
    "cluster_dict = {\n",
    "    1:('Great_Wave_Kanagawa', \"2021-04-20\", \"2021-04-29\"),\n",
    "    2:('foreign_affairs_questions', '2021-04-20', '2021-04-29'),\n",
    "    3:('japan_nuclear_wastewater', '2021-04-20', '2021-04-29'),\n",
    "    4:('radioactive_condemn_water', '2021-04-20', '2021-04-29'),\n",
    "    5:('240_china_nuclear_pollution', '2023-08-21', '2023-08-30'),\n",
    "    6:('70_billion_japan_water', '2023-08-21', '2023-08-30'),\n",
    "    7:('cooling_water_nuclear_wastewater', '2023-08-21', '2023-08-30'),\n",
    "    8:('south_korea_nuclear_discharge', '2023-08-21', '2023-09-01'),\n",
    "    9:('sue_TEPCO_japan', '2023-08-21', '2023-08-30'),\n",
    "    10:('radioactive_pollution_japan_sea', '2023-08-21', '2023-08-30'),\n",
    "    11:('treatment_japan_waste_nuclear', '2023-08-21', '2023-08-30'),\n",
    "    12: ('japan_dead_fish', '2023-12-01', '2023-12-10'),\n",
    "    13: ('border_...', '2023-12-21', '2024-03-25'),\n",
    "    14: ('maga_win_trump_king', '2023-12-21', '2024-03-25'),\n",
    "    15: ('trump_primary_ballot', '2023-12-21', '2024-03-25'),\n",
    "    16: ('trump_more_votes_win','2023-12-21', '2024-03-25'),\n",
    "    17: ('republican_primary', '2023-12-21', '2024-03-25'),\n",
    "    18: ('democratic_primary', '2023-12-21', '2024-03-25'),\n",
    "    19 : ('desantis_quit', '2023-12-21', '2024-03-25'),\n",
    "    20 : ('trump_plead_not_guilty', '2023-08-01', '2023-08-10')\n",
    "}"
   ]
  },
  {
   "cell_type": "code",
   "execution_count": 244,
   "metadata": {},
   "outputs": [
    {
     "name": "stdout",
     "output_type": "stream",
     "text": [
      "       from  count\n",
      "0  facebook    172\n",
      "1   twitter    783\n",
      "2     weibo   3875\n"
     ]
    }
   ],
   "source": [
    "cluster_election = list(cluster_dict.values())[13:]\n",
    "cluster_election = [i[0] for i in cluster_election]\n",
    "df_election = df_posts[df_posts['cluster'].isin(cluster_election)]\n",
    "df_election.shape\n",
    "print(df_election.groupby('from').size().reset_index(name='count'))"
   ]
  },
  {
   "cell_type": "code",
   "execution_count": 238,
   "metadata": {},
   "outputs": [
    {
     "data": {
      "text/plain": [
       "[('border_...', '2023-12-21', '2024-03-25'),\n",
       " ('maga_win_trump_king', '2023-12-21', '2024-03-25'),\n",
       " ('trump_primary_ballot', '2023-12-21', '2024-03-25'),\n",
       " ('trump_more_votes_win', '2023-12-21', '2024-03-25'),\n",
       " ('republican_primary', '2023-12-21', '2024-03-25'),\n",
       " ('democratic_primary', '2023-12-21', '2024-03-25'),\n",
       " ('desantis_quit', '2023-12-21', '2024-03-25'),\n",
       " ('trump_plead_not_guilty', '2023-08-01', '2023-08-10')]"
      ]
     },
     "execution_count": 238,
     "metadata": {},
     "output_type": "execute_result"
    }
   ],
   "source": [
    "list(cluster_dict.values())[12:20]"
   ]
  },
  {
   "cell_type": "code",
   "execution_count": null,
   "metadata": {},
   "outputs": [],
   "source": []
  }
 ],
 "metadata": {
  "kernelspec": {
   "display_name": "crossplatform",
   "language": "python",
   "name": "crossplatform"
  },
  "language_info": {
   "codemirror_mode": {
    "name": "ipython",
    "version": 3
   },
   "file_extension": ".py",
   "mimetype": "text/x-python",
   "name": "python",
   "nbconvert_exporter": "python",
   "pygments_lexer": "ipython3",
   "version": "3.9.0"
  }
 },
 "nbformat": 4,
 "nbformat_minor": 2
}
