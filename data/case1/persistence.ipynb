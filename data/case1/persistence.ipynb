{
 "cells": [
  {
   "cell_type": "code",
   "execution_count": 1,
   "metadata": {},
   "outputs": [
    {
     "name": "stderr",
     "output_type": "stream",
     "text": [
      "d:\\Program\\Anaconda\\envs\\CP\\lib\\site-packages\\tqdm\\auto.py:21: TqdmWarning: IProgress not found. Please update jupyter and ipywidgets. See https://ipywidgets.readthedocs.io/en/stable/user_install.html\n",
      "  from .autonotebook import tqdm as notebook_tqdm\n"
     ]
    }
   ],
   "source": [
    "from sentence_transformers import SentenceTransformer, util\n",
    "import os\n",
    "# from utils import freq\n",
    "import re\n",
    "import pandas as pd\n",
    "import numpy as np"
   ]
  },
  {
   "cell_type": "code",
   "execution_count": 66,
   "metadata": {},
   "outputs": [
    {
     "data": {
      "text/plain": [
       "(16361, 19)"
      ]
     },
     "execution_count": 66,
     "metadata": {},
     "output_type": "execute_result"
    }
   ],
   "source": [
    "df_posts = pd.read_csv('all_posts.csv',  encoding='utf-8', dtype={'user_id':str})\n",
    "df_posts.shape"
   ]
  },
  {
   "cell_type": "code",
   "execution_count": 67,
   "metadata": {},
   "outputs": [],
   "source": [
    "# 按照日期限制范围\n",
    "def get_post_date_range(df,start,end,cluster = None):\n",
    "    if cluster:\n",
    "        df_cluster = df[df['cluster'] == cluster]\n",
    "    else:\n",
    "        df_cluster = df\n",
    "    df_date = df_cluster[(df_cluster['publish_time'] >= start) & (df_cluster['publish_time'] <= end)]\n",
    "    return df_date\n",
    "# 按照cluster统计每组的数量\n",
    "def get_post_gorup_count(df,group = 'cluster'):\n",
    "    df_cluster_count = df.groupby(group).size().reset_index(name='count')\n",
    "    return df_cluster_count\n",
    "get_post_gorup_count(df_posts)\n",
    "# 根据文本列表查找\n",
    "def get_post_by_text_list(df,text_list):\n",
    "    df_text = df[df['text'].str.contains('|'.join(text_list))]\n",
    "    return df_text\n",
    "# 把df_snccll的时间随机到'2021-04-20','2021-04-29'，注意要带上时分秒\n",
    "def random_date(df,start,end):\n",
    "    df['publish_time'] = pd.to_datetime(df['publish_time'], format='%Y-%m-%d %H:%M:%S')\n",
    "    df['publish_time'] = df['publish_time'].apply(lambda x: x.replace(year=2021, month=4, day=np.random.randint(20, 30)))\n",
    "    df['publish_time'] = df['publish_time'].dt.strftime('%Y-%m-%d %H:%M:%S')\n",
    "    return df\n",
    "# 按照日期限制范围\n",
    "def get_post_date_out_range(df,start,end,cluster = None):\n",
    "    if cluster:\n",
    "        df_cluster = df[df['cluster'] == cluster]\n",
    "    else:\n",
    "        df_cluster = df\n",
    "    df_date = df_cluster[(df_cluster['publish_time'] < start) | (df_cluster['publish_time'] > end)]\n",
    "    return df_date"
   ]
  },
  {
   "cell_type": "code",
   "execution_count": 92,
   "metadata": {},
   "outputs": [
    {
     "name": "stdout",
     "output_type": "stream",
     "text": [
      "(0, 19)\n",
      "(15663, 19)\n"
     ]
    }
   ],
   "source": [
    "# 查找cluster为\"Great_Wave_Kanagawa\"的帖子\n",
    "df_out_data = get_post_date_out_range(df_posts,'2023-08-20', '2023-08-31','treatment_japan_waste_nuclear')\n",
    "print(df_out_data.shape)\n",
    "# 从df_posts中删除df_1\n",
    "df_posts = df_posts.drop(df_out_data.index)\n",
    "print(df_posts.shape)\n",
    "# 保存\n"
   ]
  },
  {
   "cell_type": "code",
   "execution_count": 93,
   "metadata": {},
   "outputs": [
    {
     "data": {
      "text/plain": [
       "(168, 19)"
      ]
     },
     "execution_count": 93,
     "metadata": {},
     "output_type": "execute_result"
    }
   ],
   "source": [
    "get_post_date_range(df_posts,'2023-08-20', '2023-08-31','treatment_japan_waste_nuclear').shape"
   ]
  },
  {
   "cell_type": "code",
   "execution_count": 94,
   "metadata": {},
   "outputs": [],
   "source": [
    "df_posts.to_csv('all_posts.csv',index=False,encoding='utf-8')"
   ]
  },
  {
   "cell_type": "code",
   "execution_count": null,
   "metadata": {},
   "outputs": [],
   "source": []
  }
 ],
 "metadata": {
  "kernelspec": {
   "display_name": "crossplatform",
   "language": "python",
   "name": "crossplatform"
  },
  "language_info": {
   "codemirror_mode": {
    "name": "ipython",
    "version": 3
   },
   "file_extension": ".py",
   "mimetype": "text/x-python",
   "name": "python",
   "nbconvert_exporter": "python",
   "pygments_lexer": "ipython3",
   "version": "3.9.0"
  }
 },
 "nbformat": 4,
 "nbformat_minor": 2
}
