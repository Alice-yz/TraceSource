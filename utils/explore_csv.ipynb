{
 "cells": [
  {
   "cell_type": "code",
   "execution_count": 2,
   "metadata": {},
   "outputs": [
    {
     "name": "stderr",
     "output_type": "stream",
     "text": [
      "C:\\Users\\94066\\AppData\\Local\\Temp\\ipykernel_33168\\273140252.py:2: DeprecationWarning: \n",
      "Pyarrow will become a required dependency of pandas in the next major release of pandas (pandas 3.0),\n",
      "(to allow more performant data types, such as the Arrow string type, and better interoperability with other libraries)\n",
      "but was not found to be installed on your system.\n",
      "If this would cause problems for you,\n",
      "please provide us feedback at https://github.com/pandas-dev/pandas/issues/54466\n",
      "        \n",
      "  import pandas as pd\n"
     ]
    }
   ],
   "source": [
    "import json\n",
    "import pandas as pd\n",
    "from csv_tools import read_csv_post, read_csv_user"
   ]
  },
  {
   "cell_type": "code",
   "execution_count": 4,
   "metadata": {},
   "outputs": [],
   "source": [
    "filtered_posts = read_csv_post('../data/filtered_posts.csv')"
   ]
  },
  {
   "cell_type": "code",
   "execution_count": 5,
   "metadata": {},
   "outputs": [
    {
     "name": "stdout",
     "output_type": "stream",
     "text": [
      "cluster\n",
      "border_united_texas_trump           18\n",
      "Great_Wave_Kanagawa                 13\n",
      "south_korea_nuclear_discharge       11\n",
      "cooling_water_nuclear_wastewater     9\n",
      "70_billion_japan_water               7\n",
      "sue_TEPCO_japan                      6\n",
      "240_china_nuclear_pollution          6\n",
      "japan_dead_fish                      3\n",
      "Name: count, dtype: int64\n"
     ]
    }
   ],
   "source": [
    "# 查看filtered_posts中cluster列有哪几个取值，每个值有多少个\n",
    "print(filtered_posts['cluster'].value_counts())"
   ]
  },
  {
   "cell_type": "code",
   "execution_count": 9,
   "metadata": {},
   "outputs": [
    {
     "name": "stdout",
     "output_type": "stream",
     "text": [
      "cluster                           from    \n",
      "240_china_nuclear_pollution       twitter     3\n",
      "                                  weibo       3\n",
      "70_billion_japan_water            twitter     4\n",
      "                                  weibo       3\n",
      "Great_Wave_Kanagawa               twitter     9\n",
      "                                  weibo       4\n",
      "border_united_texas_trump         facebook    4\n",
      "                                  twitter     9\n",
      "                                  weibo       5\n",
      "cooling_water_nuclear_wastewater  twitter     4\n",
      "                                  weibo       5\n",
      "japan_dead_fish                   twitter     2\n",
      "                                  weibo       1\n",
      "south_korea_nuclear_discharge     twitter     6\n",
      "                                  weibo       5\n",
      "sue_TEPCO_japan                   twitter     4\n",
      "                                  weibo       2\n",
      "Name: count, dtype: int64\n",
      "from                              facebook  twitter  weibo\n",
      "cluster                                                   \n",
      "240_china_nuclear_pollution            0.0      3.0    3.0\n",
      "70_billion_japan_water                 0.0      4.0    3.0\n",
      "Great_Wave_Kanagawa                    0.0      9.0    4.0\n",
      "border_united_texas_trump              4.0      9.0    5.0\n",
      "cooling_water_nuclear_wastewater       0.0      4.0    5.0\n",
      "japan_dead_fish                        0.0      2.0    1.0\n",
      "south_korea_nuclear_discharge          0.0      6.0    5.0\n",
      "sue_TEPCO_japan                        0.0      4.0    2.0\n"
     ]
    }
   ],
   "source": [
    "# print(filtered_posts[['cluster','from']].value_counts())\n",
    "# 把这个结果按照cluster顺序排列\n",
    "print(filtered_posts[['cluster','from']].value_counts().sort_index())\n",
    "# 把这个结果按照表格形式输出\n",
    "print(filtered_posts[['cluster','from']].value_counts().sort_index().unstack().fillna(0))"
   ]
  },
  {
   "cell_type": "code",
   "execution_count": null,
   "metadata": {},
   "outputs": [],
   "source": []
  }
 ],
 "metadata": {
  "kernelspec": {
   "display_name": "CrossPlatformBackend",
   "language": "python",
   "name": "python3"
  },
  "language_info": {
   "codemirror_mode": {
    "name": "ipython",
    "version": 3
   },
   "file_extension": ".py",
   "mimetype": "text/x-python",
   "name": "python",
   "nbconvert_exporter": "python",
   "pygments_lexer": "ipython3",
   "version": "3.9.0"
  }
 },
 "nbformat": 4,
 "nbformat_minor": 2
}
